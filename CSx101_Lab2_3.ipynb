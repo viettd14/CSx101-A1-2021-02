{
  "nbformat": 4,
  "nbformat_minor": 0,
  "metadata": {
    "colab": {
      "name": "CSx101.Lab2-3.ipynb",
      "provenance": [],
      "collapsed_sections": [],
      "include_colab_link": true
    },
    "kernelspec": {
      "name": "python3",
      "display_name": "Python 3"
    }
  },
  "cells": [
    {
      "cell_type": "markdown",
      "metadata": {
        "id": "view-in-github",
        "colab_type": "text"
      },
      "source": [
        "<a href=\"https://colab.research.google.com/github/viettd14/CSx101-A1-2021-02/blob/main/CSx101_Lab2_3.ipynb\" target=\"_parent\"><img src=\"https://colab.research.google.com/assets/colab-badge.svg\" alt=\"Open In Colab\"/></a>"
      ]
    },
    {
      "cell_type": "markdown",
      "metadata": {
        "id": "qYjoagGcuYmq"
      },
      "source": [
        "# CSx101 - TƯ DUY LẬP TRÌNH VỚI PYTHON\n",
        "\n",
        "Lớp CSx101-A1"
      ]
    },
    {
      "cell_type": "markdown",
      "metadata": {
        "id": "9CUHdHZe1Q2F"
      },
      "source": [
        "## Số lớn nhất - nhỏ nhất của dãy số\n",
        "\n",
        "Viết hàm trả về số lớn nhất, và số nhỏ nhất của một dãy số"
      ]
    },
    {
      "cell_type": "code",
      "metadata": {
        "id": "Rk-3yHVazWf6",
        "colab": {
          "base_uri": "https://localhost:8080/"
        },
        "outputId": "45b74e15-e832-4c24-b8eb-70e6b5822fd1"
      },
      "source": [
        "def findMinMax(arr):\n",
        "  return min(arr), max(arr)\n",
        "\n",
        "\n",
        "arr = [2, 3, 4, 6]\n",
        "min, max = findMinMax(arr)\n",
        "print(min)\n",
        "print(max)"
      ],
      "execution_count": 1,
      "outputs": [
        {
          "output_type": "stream",
          "name": "stdout",
          "text": [
            "2\n",
            "6\n"
          ]
        }
      ]
    },
    {
      "cell_type": "markdown",
      "metadata": {
        "id": "nmHh7xWnhhp_"
      },
      "source": [
        "## Hoán đổi vị trí phần tử đầu và phần cuối của một dãy số\n",
        "\n",
        "Viết hoán đổi phần tử đầu và phần tử cuối của một dãy số\n",
        "\n",
        "Ví dụ:\n",
        "* Input: 1 2 3 4 5\n",
        "* Output: 5 2 3 4 1"
      ]
    },
    {
      "cell_type": "code",
      "metadata": {
        "id": "QfjAATq7zZLY",
        "colab": {
          "base_uri": "https://localhost:8080/"
        },
        "outputId": "e5fed847-ce0b-4024-c443-534cd952bb2f"
      },
      "source": [
        "def swapList(arr):\n",
        "    arr[0], arr[-1] = arr[-1], arr[0]\n",
        "    return arr\n",
        "arr = [1,2,3,4,5]\n",
        "print(swapList(arr))\n"
      ],
      "execution_count": 2,
      "outputs": [
        {
          "output_type": "stream",
          "name": "stdout",
          "text": [
            "[5, 2, 3, 4, 1]\n"
          ]
        }
      ]
    },
    {
      "cell_type": "markdown",
      "metadata": {
        "id": "leCn2xFwubkR"
      },
      "source": [
        "## Kiểm tra một phần tử có trong dãy số \n",
        "\n",
        "Viết hàm kiểm tra một phần tử có trong dãy số cho trước hay không\n",
        "\n",
        "Ví dụ:\n",
        "* Input: dãy số 1, 2, 3, 4, 5 và phần tử cần kiểm tra là 9\n",
        "* Output: False"
      ]
    },
    {
      "cell_type": "code",
      "metadata": {
        "id": "N2uyMnza1Bkc",
        "colab": {
          "base_uri": "https://localhost:8080/"
        },
        "outputId": "d1701d3b-9453-4f1c-e5cf-b170bb5e3333"
      },
      "source": [
        "a = [1, 2, 3, 4, 5]\n",
        "x = 9\n",
        "def checkNumberExist(x, arr):\n",
        "    n = len(arr)\n",
        "    for i in range(1,n):\n",
        "        if arr[i] == x:\n",
        "            return True\n",
        "        else:\n",
        "            return False\n",
        "print(checkNumberExist(x,a))\n"
      ],
      "execution_count": 3,
      "outputs": [
        {
          "output_type": "stream",
          "name": "stdout",
          "text": [
            "False\n"
          ]
        }
      ]
    },
    {
      "cell_type": "markdown",
      "metadata": {
        "id": "mbBv-k2SkFVK"
      },
      "source": [
        "## Đảo ngược dãy số\n",
        "\n",
        "Viết hàm đảo ngược một dãy số\n",
        "\n",
        "Ví dụ: \n",
        "* Input: 1, 2, 3, 4, 5\n",
        "* Output: 5, 4, 3, 2, 1"
      ]
    },
    {
      "cell_type": "code",
      "metadata": {
        "id": "oz59rx9g1Fx6",
        "colab": {
          "base_uri": "https://localhost:8080/"
        },
        "outputId": "7b31aec3-17df-4a1d-ffb0-79e8c0afaf49"
      },
      "source": [
        "def reverseList(arr):\n",
        "    n = len(arr)\n",
        "    temparr = []\n",
        "    for i in reversed(range(n)):\n",
        "        temparr.append(arr[i])\n",
        "    return temparr\n",
        "a = [1, 2, 3, 4, 5]\n",
        "print (reverseList(a))\n",
        "\n"
      ],
      "execution_count": 4,
      "outputs": [
        {
          "output_type": "stream",
          "name": "stdout",
          "text": [
            "[5, 4, 3, 2, 1]\n"
          ]
        }
      ]
    },
    {
      "cell_type": "markdown",
      "metadata": {
        "id": "CMIVvurg2OiU"
      },
      "source": [
        "## Số nguyên tố của dãy số\n",
        "\n",
        "Viết hàm trả về các số nguyên tố của một dãy số\n",
        "\n",
        "Ví dụ:\n",
        "* Input: 3, 7, 11, 12, 15\n",
        "* Output: 3, 7, 11"
      ]
    },
    {
      "cell_type": "code",
      "metadata": {
        "id": "-3ZMFj3r2TgX",
        "colab": {
          "base_uri": "https://localhost:8080/"
        },
        "outputId": "78a450bb-1f7d-4819-fbf7-e369507e6521"
      },
      "source": [
        "import math\n",
        "a = [3, 7, 11, 12, 15]\n",
        "def isPrimeNumber(n):\n",
        "    # so nguyen n < 2 khong phai la so nguyen to\n",
        "    if (n < 2):\n",
        "        return False;\n",
        "    # check so nguyen to khi n >= 2\n",
        "    squareRoot = int(math.sqrt(n))\n",
        "    for i in range(2, squareRoot + 1):\n",
        "        if (n % i == 0):\n",
        "            return False\n",
        "    return True\n",
        "\n",
        "def findPrimeNumbers(arr):\n",
        "    n = len(a)\n",
        "    temparr =[]\n",
        "    for i in range(0, n):\n",
        "        if isPrimeNumber(arr[i]) is True:\n",
        "            temparr.append(arr[i])\n",
        "    return temparr\n",
        "    \n",
        "print (findPrimeNumbers(a))\n",
        "\n"
      ],
      "execution_count": 5,
      "outputs": [
        {
          "output_type": "stream",
          "name": "stdout",
          "text": [
            "[3, 7, 11]\n"
          ]
        }
      ]
    },
    {
      "cell_type": "markdown",
      "metadata": {
        "id": "cCyfKs0q4h-X"
      },
      "source": [
        "## Đếm số lần xuất hiện của một phần tử trong dãy số\n",
        "\n",
        "Viết hàm đếm số lần xuất hiện của một phần tử trong dãy số\n",
        "\n",
        "Ví dụ:\n",
        "* Input: 1, 2, 4, 2, 6, 2, 5, 2 và 2\n",
        "* Output: 4 (số 2 xuất hiện 4 lần trong dãy số trên)\n"
      ]
    },
    {
      "cell_type": "code",
      "metadata": {
        "id": "1pfCY9w04nCN",
        "colab": {
          "base_uri": "https://localhost:8080/"
        },
        "outputId": "07d1da78-cb39-42a0-d08f-6d146fadfca1"
      },
      "source": [
        "a = [1, 2, 4, 2, 6, 2, 5, 2]\n",
        "x = 2\n",
        "def countOccurences(x, arr):\n",
        "    n = len(arr)\n",
        "    solan = 0\n",
        "    for i in range (0,n):\n",
        "        if x == arr[i]:\n",
        "            solan = solan + 1\n",
        "    return solan\n",
        "print (countOccurences(x,a))\n"
      ],
      "execution_count": 6,
      "outputs": [
        {
          "output_type": "stream",
          "name": "stdout",
          "text": [
            "4\n"
          ]
        }
      ]
    },
    {
      "cell_type": "markdown",
      "metadata": {
        "id": "IQX-kblX6FFL"
      },
      "source": [
        "## Loại bỏ các phần tử trùng\n",
        "\n",
        "Viết hàm loại bỏ các phần tử trùng của một dãy cho trước. Dãy trả về bao gồm các phần tử chỉ xuất hiện một lần\n",
        "\n",
        "* Input: 10, 20, 30, 20, 20, 30, 40, 50, -20, 60, 60, -20, -20\n",
        "* Output: 10, 20, 30, 40, 50, -20, 60\n"
      ]
    },
    {
      "cell_type": "code",
      "metadata": {
        "id": "9-pRgu5w6P3w",
        "colab": {
          "base_uri": "https://localhost:8080/"
        },
        "outputId": "3efd84e7-dd38-425d-a1d4-9eb4489e0883"
      },
      "source": [
        "a = [10, 20, 30, 20, 20, 30, 40, 50, -20, 60, 60, -20, -20]\n",
        "def removeDuplicates(arr):\n",
        "    arr = list(dict.fromkeys(arr))\n",
        "    return arr\n",
        "print (removeDuplicates(a))\n"
      ],
      "execution_count": 7,
      "outputs": [
        {
          "output_type": "stream",
          "name": "stdout",
          "text": [
            "[10, 20, 30, 40, 50, -20, 60]\n"
          ]
        }
      ]
    },
    {
      "cell_type": "markdown",
      "metadata": {
        "id": "5A5TZTYJ2Kae"
      },
      "source": [
        "## Tìm N số lớn nhất trong dãy\n",
        "\n",
        "Viết hàm trả về N số lớn nhất trong dãy cho trước\n",
        "\n",
        "* Input: 4, 5, 1, 2, 9 và N=2\n",
        "* Output: 9, 5"
      ]
    },
    {
      "cell_type": "code",
      "metadata": {
        "id": "K2ydHtRR3ebu",
        "colab": {
          "base_uri": "https://localhost:8080/"
        },
        "outputId": "0d9e999d-ab99-4f99-a8cf-00bc22240132"
      },
      "source": [
        "a = [4, 5, 1, 2, 9]\n",
        "n = 2\n",
        "def findmax(a):\n",
        "    size = len(a)\n",
        "    max = 0\n",
        "    for i in range (size):\n",
        "        if max < a[i]:\n",
        "            max = a[i]\n",
        "    return max\n",
        "def findNLargestElements(n, arr):\n",
        "    temparr = []\n",
        "    for i in range (0,n):\n",
        "        x = findmax(arr)\n",
        "        temparr.append(x)\n",
        "        arr.remove(x)\n",
        "    return temparr\n",
        "print(findNLargestElements(n,a))\n"
      ],
      "execution_count": 12,
      "outputs": [
        {
          "output_type": "stream",
          "name": "stdout",
          "text": [
            "[9, 5]\n"
          ]
        }
      ]
    },
    {
      "cell_type": "markdown",
      "metadata": {
        "id": "xXSKpzjJ2Wt4"
      },
      "source": [
        "## Tính tổng tích luỹ\n",
        "\n",
        "Viết hàm tính tổng tích luỹ của một dãy. \n",
        "\n",
        "Phần tử thứ $i$ của dãy đầu ra bằng tổng các phần tử $i, i-1, i-2, ...$ của dãy đầu vào\n",
        "\n",
        "* Input: 10, 20, 30, 40, 50\n",
        "* Output: 10, 30, 60, 100, 150"
      ]
    },
    {
      "cell_type": "code",
      "metadata": {
        "id": "RfQ2N2Ty3oLy",
        "colab": {
          "base_uri": "https://localhost:8080/"
        },
        "outputId": "3381a4d1-ff82-4e51-c7d8-4772f9c52a64"
      },
      "source": [
        "a = [10, 20, 30, 40, 50]\n",
        "def calcCumulativeSum(arr):\n",
        "    size = len(a)\n",
        "    sum = 0\n",
        "    temparr = []\n",
        "    for i in range(size):\n",
        "        sum = sum + arr[i]\n",
        "        temparr.append(sum)\n",
        "    return temparr\n",
        "print(calcCumulativeSum(a))"
      ],
      "execution_count": 13,
      "outputs": [
        {
          "output_type": "stream",
          "name": "stdout",
          "text": [
            "[10, 30, 60, 100, 150]\n"
          ]
        }
      ]
    },
    {
      "cell_type": "markdown",
      "metadata": {
        "id": "a72UHNxW3OmA"
      },
      "source": [
        "## Xoá một số phần tử của dãy\n",
        "\n",
        "Viết hàm xoá một số phần tử của dãy\n",
        "\n",
        "* Input: 12, 15, 3, 10 và 12 và 3 là các phần tử cần xoá\n",
        "* Output: 15, 10"
      ]
    },
    {
      "cell_type": "code",
      "metadata": {
        "id": "PkwKGvI74AHU",
        "colab": {
          "base_uri": "https://localhost:8080/"
        },
        "outputId": "468f587f-fb7f-4aa8-c8d8-7b72252eba48"
      },
      "source": [
        "a = [12, 15, 3, 10]\n",
        "delete = [12 ,3]\n",
        "def removeElemetns(arrInput, arrRemove):\n",
        "    for i in arrRemove:\n",
        "        if i in arrInput:\n",
        "            arrInput.remove(i)\n",
        "    return arrInput\n",
        "print (removeElemetns(a,delete))"
      ],
      "execution_count": 1,
      "outputs": [
        {
          "output_type": "stream",
          "name": "stdout",
          "text": [
            "[15, 10]\n"
          ]
        }
      ]
    }
  ]
}