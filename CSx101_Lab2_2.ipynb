{
  "nbformat": 4,
  "nbformat_minor": 0,
  "metadata": {
    "colab": {
      "name": "CSx101.Lab2-2.ipynb",
      "provenance": [],
      "include_colab_link": true
    },
    "kernelspec": {
      "name": "python3",
      "display_name": "Python 3"
    }
  },
  "cells": [
    {
      "cell_type": "markdown",
      "metadata": {
        "id": "view-in-github",
        "colab_type": "text"
      },
      "source": [
        "<a href=\"https://colab.research.google.com/github/viettd14/CSx101-A1-2021-02/blob/main/CSx101_Lab2_2.ipynb\" target=\"_parent\"><img src=\"https://colab.research.google.com/assets/colab-badge.svg\" alt=\"Open In Colab\"/></a>"
      ]
    },
    {
      "cell_type": "markdown",
      "metadata": {
        "id": "qYjoagGcuYmq"
      },
      "source": [
        "# CSx101 - TƯ DUY LẬP TRÌNH VỚI PYTHON\n",
        "\n",
        "Lớp CSx101-A1"
      ]
    },
    {
      "cell_type": "markdown",
      "metadata": {
        "id": "9CUHdHZe1Q2F"
      },
      "source": [
        "## Số lớn nhất\n",
        "\n",
        "Viết hàm tính số lớn nhất của 2 hai số"
      ]
    },
    {
      "cell_type": "code",
      "metadata": {
        "id": "Rk-3yHVazWf6",
        "colab": {
          "base_uri": "https://localhost:8080/"
        },
        "outputId": "4fda9bf1-887a-4941-fac2-cbc27c81caad"
      },
      "source": [
        "def calMax(a, b):\n",
        "  return max (a,b)\n",
        "  \n",
        "a = 5\n",
        "b = 5.01\n",
        "\n",
        "max2 = calMax(a, b)\n",
        "print(max2)\n",
        "\n",
        "# Kết quả 5.01"
      ],
      "execution_count": null,
      "outputs": [
        {
          "output_type": "stream",
          "name": "stdout",
          "text": [
            "5.01\n"
          ]
        }
      ]
    },
    {
      "cell_type": "markdown",
      "metadata": {
        "id": "nmHh7xWnhhp_"
      },
      "source": [
        "## Giai thừa\n",
        "\n",
        "Viết hàm tính giai thừa của $n$\n",
        "\n",
        "$n! = n*(n-1)*(n-2)*...*1$"
      ]
    },
    {
      "cell_type": "code",
      "metadata": {
        "id": "QfjAATq7zZLY",
        "colab": {
          "base_uri": "https://localhost:8080/"
        },
        "outputId": "659a35d3-009f-4362-a08c-979bedab3d74"
      },
      "source": [
        "def calFactorial(n):\n",
        "  giaithua = 1\n",
        "  for i in range(1, n+1):\n",
        "    giaithua = giaithua * i\n",
        "  return giaithua\n",
        "n = 5\n",
        "result = calFactorial(n)\n",
        "print(result)\n",
        "\n",
        "# Kết quả 120"
      ],
      "execution_count": null,
      "outputs": [
        {
          "output_type": "stream",
          "name": "stdout",
          "text": [
            "120\n"
          ]
        }
      ]
    },
    {
      "cell_type": "markdown",
      "metadata": {
        "id": "leCn2xFwubkR"
      },
      "source": [
        "## Số Amstrong\n",
        "Viết hàm trả về số $x$ có phải là số Amstrong hay không. \n",
        "\n",
        "Số nguyên dương có $n$ chữ số là số  Armstrong bậc $n$ nếu:\n",
        "\n",
        "$abcd... = pow(a,n) + pow(b,n) + pow(c,n) + pow(d,n) + .... $\n",
        "\n",
        "Ví dụ: 153 là số Amstrong vì $n=3$ và \n",
        "\n",
        "$1*1*1 + 5*5*5 + 3*3*3 = 153$"
      ]
    },
    {
      "cell_type": "code",
      "metadata": {
        "id": "N2uyMnza1Bkc",
        "colab": {
          "base_uri": "https://localhost:8080/"
        },
        "outputId": "5034b1ec-5313-482c-8f4b-c2eb47ec2141"
      },
      "source": [
        "def checkAmstrongNumber(x):                 \n",
        "  # initialize sum\n",
        "  sum = 0\n",
        "  # find the sum of the cube of each digit\n",
        "  temp = x\n",
        "  while temp > 0:\n",
        "    digit = temp % 10\n",
        "    sum += digit ** 3\n",
        "    temp //= 10\n",
        "  # display the result\n",
        "  if x == sum:\n",
        "    return True\n",
        "  else:\n",
        "    return False\n",
        "\n",
        "x = 153\n",
        "result = checkAmstrongNumber(x)\n",
        "print(result)\n",
        "\n",
        "# Kết quả True"
      ],
      "execution_count": 16,
      "outputs": [
        {
          "output_type": "stream",
          "name": "stdout",
          "text": [
            "True\n"
          ]
        }
      ]
    },
    {
      "cell_type": "markdown",
      "metadata": {
        "id": "mbBv-k2SkFVK"
      },
      "source": [
        "## Số nguyên tố\n",
        "\n",
        "Viết hàm kiểm tra một số nguyên dương $n$ có phải là số nguyên tố hay không.\n",
        "\n",
        "Số nguyên tố là số lớn hơn 1 và không có ước số nào ngoài 1 và chính nó. Ví dụ: {2, 3, 5, 7, 11, ….}."
      ]
    },
    {
      "cell_type": "code",
      "metadata": {
        "id": "oz59rx9g1Fx6",
        "colab": {
          "base_uri": "https://localhost:8080/"
        },
        "outputId": "afb33432-6ba5-4016-d14f-4b7b7c020dd5"
      },
      "source": [
        "def checkPrimeNumber(n):\n",
        "    count = 0\n",
        "    for i in range(1, n + 1):\n",
        "      if n % i == 0:\n",
        "        count += 1\n",
        "    if count == 2:\n",
        "        return True\n",
        "    return False\n",
        "\n",
        "n = 7\n",
        "result = checkPrimeNumber(n)\n",
        "print(result)\n",
        "\n",
        "# Kết quả True"
      ],
      "execution_count": 21,
      "outputs": [
        {
          "output_type": "stream",
          "name": "stdout",
          "text": [
            "True\n"
          ]
        }
      ]
    },
    {
      "cell_type": "markdown",
      "metadata": {
        "id": "CMIVvurg2OiU"
      },
      "source": [
        "## Số Fibonaci\n",
        "\n",
        "Viết hàm tính số Fibonaci $F_n$\n",
        "\n",
        "Công thức tính số Fibonaci\n",
        "$F_n = F_{n-1} + F_{n-2}$\n",
        "\n",
        "$F_0 = 0$\n",
        "\n",
        "$F_1 = 1$"
      ]
    },
    {
      "cell_type": "code",
      "metadata": {
        "id": "-3ZMFj3r2TgX",
        "colab": {
          "base_uri": "https://localhost:8080/"
        },
        "outputId": "155e83f7-62c1-439e-d1f7-2c8bf72579b9"
      },
      "source": [
        "def calFibonaci(n):\n",
        "    if n == 1 or n == 2: # base case\n",
        "        return 1\n",
        "    return calFibonaci(n - 1) + calFibonaci(n - 2) # recursion\n",
        "    \n",
        "n = 2\n",
        "result = calFibonaci(n)\n",
        "print(result) \n",
        "\n",
        "# Kết quả 1"
      ],
      "execution_count": 22,
      "outputs": [
        {
          "output_type": "stream",
          "name": "stdout",
          "text": [
            "1\n"
          ]
        }
      ]
    },
    {
      "cell_type": "markdown",
      "metadata": {
        "id": "cCyfKs0q4h-X"
      },
      "source": [
        "## Kiểm tra một số có phải là số Fibonaci hay không\n",
        "\n",
        "Viết hàm kiểm tra một số $n$ có phải là số Fibonaci hay không.\n",
        "\n",
        "Các số sau là số Fibonaci: 0, 1, 1, 2, 3, 5, 8, 13, 21, 34, 55, 89, 144,\n",
        "\n",
        "Gợi ý: A number is Fibonacci if and only if one or both of $(5*n2 + 4)$ or $(5*n2 – 4)$ is a perfect square"
      ]
    },
    {
      "cell_type": "code",
      "metadata": {
        "id": "1pfCY9w04nCN",
        "colab": {
          "base_uri": "https://localhost:8080/"
        },
        "outputId": "024bd5de-c013-4eab-fa7c-166f957b30e2"
      },
      "source": [
        "import math\n",
        "def checkFibonaciNumber(n):\n",
        "    def check_perfect_square(m):\n",
        "        n = int(math.sqrt(m))\n",
        "        return n*n == m\n",
        "    def check_fibo(m):\n",
        "        return check_perfect_square(5*m*m + 4) or check_perfect_square(5*m*m - 4)\n",
        "    if(check_fibo(n) == True):\n",
        "        return True\n",
        "    else:\n",
        "        return False\n",
        "n = 21\n",
        "result = checkFibonaciNumber(n)\n",
        "print(result) \n",
        "\n",
        "# Kết quả True"
      ],
      "execution_count": 26,
      "outputs": [
        {
          "output_type": "stream",
          "name": "stdout",
          "text": [
            "True\n"
          ]
        }
      ]
    },
    {
      "cell_type": "markdown",
      "metadata": {
        "id": "IQX-kblX6FFL"
      },
      "source": [
        "## Tổng $1^2 + 2^2 + 3^2 + …+ n^2$\n",
        "\n",
        "Viết hàm tính tổng trên "
      ]
    },
    {
      "cell_type": "code",
      "metadata": {
        "id": "9-pRgu5w6P3w",
        "colab": {
          "base_uri": "https://localhost:8080/"
        },
        "outputId": "b011445d-4fea-4f38-fe6e-7dce91adbede"
      },
      "source": [
        "def calSquareSum(n):\n",
        "  sum = 0\n",
        "  for i in range (1,n+1):\n",
        "    sum = sum + pow(i,2)\n",
        "  return sum\n",
        "  \n",
        "n = 2\n",
        "result = calSquareSum(n)\n",
        "print(result) \n",
        "\n",
        "# Kết quả 5"
      ],
      "execution_count": 28,
      "outputs": [
        {
          "output_type": "stream",
          "name": "stdout",
          "text": [
            "5\n"
          ]
        }
      ]
    }
  ]
}